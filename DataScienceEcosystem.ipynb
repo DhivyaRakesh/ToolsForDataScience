{
 "cells": [
  {
   "cell_type": "markdown",
   "id": "663bb4dc",
   "metadata": {},
   "source": [
    "# Data Science Tools and Ecosystem"
   ]
  },
  {
   "cell_type": "markdown",
   "id": "1f48a394",
   "metadata": {},
   "source": [
    "In this notebook, Data Science Tools and Ecosystem are summarized."
   ]
  },
  {
   "cell_type": "markdown",
   "id": "ef295710",
   "metadata": {},
   "source": [
    "Some of the popular languages that Data Scientists use are:\n",
    "\n",
    "1. Python\n",
    "2. R Programming\n",
    "3. SQL\n",
    "4. Julia\n",
    "5. Scala\n",
    "6. SAS"
   ]
  },
  {
   "cell_type": "markdown",
   "id": "a3616ddc",
   "metadata": {},
   "source": [
    "Some of the commonly used libraries used by Data Scientists include:\n",
    "    \n",
    "1. GGPLOT2 for data visualization from R\n",
    "2. DPLYR for data manipulation from R\n",
    "3. PLOTLY for data visualization in Python\n",
    "4. Scikit-learn for Machine Learning in Python\n",
    "5. PANDAS for data manipulation in Python\n",
    "6. NUMPY for working with numerical arrays in Python\n",
    "7. SCIPY for scientific and mathemetical operations in Python, built on top of NumPy"
   ]
  },
  {
   "cell_type": "markdown",
   "id": "8ab1d940",
   "metadata": {},
   "source": [
    "| Data Science Tools |\n",
    "| ------------------ |\n",
    "| Jupyter Notebooks  |\n",
    "| Appache Zepplin    |\n",
    "| R Studio           |"
   ]
  },
  {
   "cell_type": "markdown",
   "id": "db1b0567",
   "metadata": {},
   "source": [
    "### Below are a few examples of evaluating arithmetic expressions in Python"
   ]
  },
  {
   "cell_type": "code",
   "execution_count": 1,
   "id": "4c7c89e4",
   "metadata": {},
   "outputs": [
    {
     "data": {
      "text/plain": [
       "17"
      ]
     },
     "execution_count": 1,
     "metadata": {},
     "output_type": "execute_result"
    }
   ],
   "source": [
    "(3*4)+5\n",
    "# This a simple arithmetic expression to mutiply then add integers"
   ]
  },
  {
   "cell_type": "code",
   "execution_count": 2,
   "id": "c79b9bf3",
   "metadata": {},
   "outputs": [
    {
     "data": {
      "text/plain": [
       "33.333333333333336"
      ]
     },
     "execution_count": 2,
     "metadata": {},
     "output_type": "execute_result"
    }
   ],
   "source": [
    "200/6\n",
    "\n",
    "# This will convert 200 minutes to hours by diving by 60"
   ]
  },
  {
   "cell_type": "markdown",
   "id": "1bb60a84",
   "metadata": {},
   "source": [
    "**Objectives:**\n",
    "\n",
    " - List Popular Tools for Data science.\n",
    " - List Popular Libraries for Data science.\n",
    " - List Open Source Tools in DataScience, in development envorinment\n",
    " - Introducing Arithmetic Operations in Python\n",
    " - Create a table with List of Data Science tools"
   ]
  },
  {
   "cell_type": "markdown",
   "id": "38bf1cb8",
   "metadata": {},
   "source": [
    "## Author\n",
    "\n",
    "Dhivya Rakesh"
   ]
  },
  {
   "cell_type": "code",
   "execution_count": null,
   "id": "8f8964ba",
   "metadata": {},
   "outputs": [],
   "source": []
  }
 ],
 "metadata": {
  "kernelspec": {
   "display_name": "Python 3 (ipykernel)",
   "language": "python",
   "name": "python3"
  },
  "language_info": {
   "codemirror_mode": {
    "name": "ipython",
    "version": 3
   },
   "file_extension": ".py",
   "mimetype": "text/x-python",
   "name": "python",
   "nbconvert_exporter": "python",
   "pygments_lexer": "ipython3",
   "version": "3.10.9"
  }
 },
 "nbformat": 4,
 "nbformat_minor": 5
}
